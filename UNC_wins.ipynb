{
 "cells": [
  {
   "cell_type": "code",
   "execution_count": 2,
   "metadata": {},
   "outputs": [],
   "source": [
    "%matplotlib notebook"
   ]
  },
  {
   "cell_type": "code",
   "execution_count": 3,
   "metadata": {},
   "outputs": [],
   "source": [
    "# Dependencies\n",
    "import matplotlib.pyplot as plt\n",
    "import numpy as np\n",
    "import pandas as pd\n",
    "from datetime import date"
   ]
  },
  {
   "cell_type": "code",
   "execution_count": 4,
   "metadata": {},
   "outputs": [
    {
     "data": {
      "text/html": [
       "<div>\n",
       "<style scoped>\n",
       "    .dataframe tbody tr th:only-of-type {\n",
       "        vertical-align: middle;\n",
       "    }\n",
       "\n",
       "    .dataframe tbody tr th {\n",
       "        vertical-align: top;\n",
       "    }\n",
       "\n",
       "    .dataframe thead th {\n",
       "        text-align: right;\n",
       "    }\n",
       "</style>\n",
       "<table border=\"1\" class=\"dataframe\">\n",
       "  <thead>\n",
       "    <tr style=\"text-align: right;\">\n",
       "      <th></th>\n",
       "      <th>Date</th>\n",
       "      <th>Round</th>\n",
       "      <th>Region</th>\n",
       "      <th>Winning Seed</th>\n",
       "      <th>Winner</th>\n",
       "      <th>Winning Score</th>\n",
       "      <th>Losing Seed</th>\n",
       "      <th>Loser</th>\n",
       "      <th>Losing Score</th>\n",
       "      <th>Overtime</th>\n",
       "    </tr>\n",
       "  </thead>\n",
       "  <tbody>\n",
       "    <tr>\n",
       "      <td>0</td>\n",
       "      <td>3/14/1985</td>\n",
       "      <td>Round of 64</td>\n",
       "      <td>East</td>\n",
       "      <td>1</td>\n",
       "      <td>Georgetown</td>\n",
       "      <td>68</td>\n",
       "      <td>16</td>\n",
       "      <td>Lehigh</td>\n",
       "      <td>43</td>\n",
       "      <td>NaN</td>\n",
       "    </tr>\n",
       "    <tr>\n",
       "      <td>1</td>\n",
       "      <td>3/14/1985</td>\n",
       "      <td>Round of 64</td>\n",
       "      <td>East</td>\n",
       "      <td>4</td>\n",
       "      <td>Loyola, Illinois</td>\n",
       "      <td>59</td>\n",
       "      <td>13</td>\n",
       "      <td>Iona</td>\n",
       "      <td>58</td>\n",
       "      <td>NaN</td>\n",
       "    </tr>\n",
       "    <tr>\n",
       "      <td>2</td>\n",
       "      <td>3/14/1985</td>\n",
       "      <td>Round of 64</td>\n",
       "      <td>East</td>\n",
       "      <td>5</td>\n",
       "      <td>Southern Methodist</td>\n",
       "      <td>85</td>\n",
       "      <td>12</td>\n",
       "      <td>Old Dominion</td>\n",
       "      <td>68</td>\n",
       "      <td>NaN</td>\n",
       "    </tr>\n",
       "    <tr>\n",
       "      <td>3</td>\n",
       "      <td>3/14/1985</td>\n",
       "      <td>Round of 64</td>\n",
       "      <td>East</td>\n",
       "      <td>8</td>\n",
       "      <td>Temple</td>\n",
       "      <td>60</td>\n",
       "      <td>9</td>\n",
       "      <td>Virginia Tech</td>\n",
       "      <td>57</td>\n",
       "      <td>NaN</td>\n",
       "    </tr>\n",
       "    <tr>\n",
       "      <td>4</td>\n",
       "      <td>3/14/1985</td>\n",
       "      <td>Round of 64</td>\n",
       "      <td>Midwest</td>\n",
       "      <td>1</td>\n",
       "      <td>Oklahoma</td>\n",
       "      <td>96</td>\n",
       "      <td>16</td>\n",
       "      <td>North Carolina A&amp;T</td>\n",
       "      <td>83</td>\n",
       "      <td>NaN</td>\n",
       "    </tr>\n",
       "  </tbody>\n",
       "</table>\n",
       "</div>"
      ],
      "text/plain": [
       "        Date        Round   Region  Winning Seed              Winner  \\\n",
       "0  3/14/1985  Round of 64     East             1          Georgetown   \n",
       "1  3/14/1985  Round of 64     East             4    Loyola, Illinois   \n",
       "2  3/14/1985  Round of 64     East             5  Southern Methodist   \n",
       "3  3/14/1985  Round of 64     East             8              Temple   \n",
       "4  3/14/1985  Round of 64  Midwest             1            Oklahoma   \n",
       "\n",
       "   Winning Score  Losing Seed               Loser  Losing Score Overtime  \n",
       "0             68           16              Lehigh            43      NaN  \n",
       "1             59           13                Iona            58      NaN  \n",
       "2             85           12        Old Dominion            68      NaN  \n",
       "3             60            9       Virginia Tech            57      NaN  \n",
       "4             96           16  North Carolina A&T            83      NaN  "
      ]
     },
     "execution_count": 4,
     "metadata": {},
     "output_type": "execute_result"
    }
   ],
   "source": [
    "# Load csv\n",
    "tourney_results = pd.read_csv('ncaa_tourney_results.csv')\n",
    "tourney_results.head()"
   ]
  },
  {
   "cell_type": "code",
   "execution_count": 5,
   "metadata": {},
   "outputs": [
    {
     "name": "stdout",
     "output_type": "stream",
     "text": [
      "           Date                Round     Region  Winning Seed          Winner  \\\n",
      "8     3/14/1985          Round of 64  Southeast             2  North Carolina   \n",
      "36    3/16/1985          Round of 32  Southeast             2  North Carolina   \n",
      "52    3/22/1985        Sweet Sixteen  Southeast             2  North Carolina   \n",
      "76    3/13/1986          Round of 64       West             3  North Carolina   \n",
      "102   3/15/1986          Round of 32       West             3  North Carolina   \n",
      "...         ...                  ...        ...           ...             ...   \n",
      "1987  3/17/2016          Round of 64       East             1  North Carolina   \n",
      "2019  3/19/2016          Round of 32       East             1  North Carolina   \n",
      "2039  3/25/2016        Sweet Sixteen       East             1  North Carolina   \n",
      "2045  3/27/2016          Elite Eight       East             1  North Carolina   \n",
      "2047   4/2/2016  National Semifinals        NaN             1  North Carolina   \n",
      "\n",
      "      Winning Score  Losing Seed                   Loser  Losing Score  \\\n",
      "8                76           15  Middle Tennessee State            57   \n",
      "36               60            7              Notre Dame            58   \n",
      "52               62           11                  Auburn            56   \n",
      "76               84           14                    Utah            72   \n",
      "102              77            6                     UAB            59   \n",
      "...             ...          ...                     ...           ...   \n",
      "1987             83           16      Florida Gulf Coast            67   \n",
      "2019             85            9              Providence            66   \n",
      "2039            101            5                 Indiana            86   \n",
      "2045             88            6              Notre Dame            74   \n",
      "2047             83           10                Syracuse            66   \n",
      "\n",
      "     Overtime  \n",
      "8         NaN  \n",
      "36        NaN  \n",
      "52        NaN  \n",
      "76        NaN  \n",
      "102       NaN  \n",
      "...       ...  \n",
      "1987      NaN  \n",
      "2019      NaN  \n",
      "2039      NaN  \n",
      "2045      NaN  \n",
      "2047      NaN  \n",
      "\n",
      "[82 rows x 10 columns]\n"
     ]
    }
   ],
   "source": [
    "# UNC results\n",
    "only_UNC_wins = tourney_results.loc[tourney_results['Winner'] == \"North Carolina\", :]\n",
    "print(only_UNC_wins)"
   ]
  },
  {
   "cell_type": "code",
   "execution_count": 6,
   "metadata": {},
   "outputs": [
    {
     "data": {
      "text/html": [
       "<div>\n",
       "<style scoped>\n",
       "    .dataframe tbody tr th:only-of-type {\n",
       "        vertical-align: middle;\n",
       "    }\n",
       "\n",
       "    .dataframe tbody tr th {\n",
       "        vertical-align: top;\n",
       "    }\n",
       "\n",
       "    .dataframe thead th {\n",
       "        text-align: right;\n",
       "    }\n",
       "</style>\n",
       "<table border=\"1\" class=\"dataframe\">\n",
       "  <thead>\n",
       "    <tr style=\"text-align: right;\">\n",
       "      <th></th>\n",
       "      <th>Date</th>\n",
       "      <th>Round</th>\n",
       "      <th>Region</th>\n",
       "      <th>Winning Seed</th>\n",
       "      <th>Winner</th>\n",
       "      <th>Winning Score</th>\n",
       "      <th>Losing Seed</th>\n",
       "      <th>Loser</th>\n",
       "      <th>Losing Score</th>\n",
       "      <th>Overtime</th>\n",
       "    </tr>\n",
       "  </thead>\n",
       "  <tbody>\n",
       "    <tr>\n",
       "      <td>8</td>\n",
       "      <td>3/14/1985</td>\n",
       "      <td>Round of 64</td>\n",
       "      <td>Southeast</td>\n",
       "      <td>2</td>\n",
       "      <td>North Carolina</td>\n",
       "      <td>76</td>\n",
       "      <td>15</td>\n",
       "      <td>Middle Tennessee State</td>\n",
       "      <td>57</td>\n",
       "      <td>NaN</td>\n",
       "    </tr>\n",
       "    <tr>\n",
       "      <td>36</td>\n",
       "      <td>3/16/1985</td>\n",
       "      <td>Round of 32</td>\n",
       "      <td>Southeast</td>\n",
       "      <td>2</td>\n",
       "      <td>North Carolina</td>\n",
       "      <td>60</td>\n",
       "      <td>7</td>\n",
       "      <td>Notre Dame</td>\n",
       "      <td>58</td>\n",
       "      <td>NaN</td>\n",
       "    </tr>\n",
       "    <tr>\n",
       "      <td>52</td>\n",
       "      <td>3/22/1985</td>\n",
       "      <td>Sweet Sixteen</td>\n",
       "      <td>Southeast</td>\n",
       "      <td>2</td>\n",
       "      <td>North Carolina</td>\n",
       "      <td>62</td>\n",
       "      <td>11</td>\n",
       "      <td>Auburn</td>\n",
       "      <td>56</td>\n",
       "      <td>NaN</td>\n",
       "    </tr>\n",
       "    <tr>\n",
       "      <td>76</td>\n",
       "      <td>3/13/1986</td>\n",
       "      <td>Round of 64</td>\n",
       "      <td>West</td>\n",
       "      <td>3</td>\n",
       "      <td>North Carolina</td>\n",
       "      <td>84</td>\n",
       "      <td>14</td>\n",
       "      <td>Utah</td>\n",
       "      <td>72</td>\n",
       "      <td>NaN</td>\n",
       "    </tr>\n",
       "    <tr>\n",
       "      <td>102</td>\n",
       "      <td>3/15/1986</td>\n",
       "      <td>Round of 32</td>\n",
       "      <td>West</td>\n",
       "      <td>3</td>\n",
       "      <td>North Carolina</td>\n",
       "      <td>77</td>\n",
       "      <td>6</td>\n",
       "      <td>UAB</td>\n",
       "      <td>59</td>\n",
       "      <td>NaN</td>\n",
       "    </tr>\n",
       "  </tbody>\n",
       "</table>\n",
       "</div>"
      ],
      "text/plain": [
       "          Date          Round     Region  Winning Seed          Winner  \\\n",
       "8    3/14/1985    Round of 64  Southeast             2  North Carolina   \n",
       "36   3/16/1985    Round of 32  Southeast             2  North Carolina   \n",
       "52   3/22/1985  Sweet Sixteen  Southeast             2  North Carolina   \n",
       "76   3/13/1986    Round of 64       West             3  North Carolina   \n",
       "102  3/15/1986    Round of 32       West             3  North Carolina   \n",
       "\n",
       "     Winning Score  Losing Seed                   Loser  Losing Score Overtime  \n",
       "8               76           15  Middle Tennessee State            57      NaN  \n",
       "36              60            7              Notre Dame            58      NaN  \n",
       "52              62           11                  Auburn            56      NaN  \n",
       "76              84           14                    Utah            72      NaN  \n",
       "102             77            6                     UAB            59      NaN  "
      ]
     },
     "execution_count": 6,
     "metadata": {},
     "output_type": "execute_result"
    }
   ],
   "source": [
    "UNC_wins = pd.DataFrame(only_UNC_wins)\n",
    "UNC_wins.head()"
   ]
  },
  {
   "cell_type": "code",
   "execution_count": 7,
   "metadata": {},
   "outputs": [
    {
     "data": {
      "text/plain": [
       "2.1951219512195124"
      ]
     },
     "execution_count": 7,
     "metadata": {},
     "output_type": "execute_result"
    }
   ],
   "source": [
    "# Average UNC seed when UNC wins\n",
    "UNC_win_seed = UNC_wins['Winning Seed'].mean()\n",
    "UNC_win_seed"
   ]
  },
  {
   "cell_type": "code",
   "execution_count": 8,
   "metadata": {},
   "outputs": [
    {
     "data": {
      "text/plain": [
       "8.74390243902439"
      ]
     },
     "execution_count": 8,
     "metadata": {},
     "output_type": "execute_result"
    }
   ],
   "source": [
    "# Average seed defeated\n",
    "avg_seed_defeated = UNC_wins['Losing Seed'].mean()\n",
    "avg_seed_defeated"
   ]
  },
  {
   "cell_type": "code",
   "execution_count": 9,
   "metadata": {},
   "outputs": [
    {
     "data": {
      "text/plain": [
       "82.48780487804878"
      ]
     },
     "execution_count": 9,
     "metadata": {},
     "output_type": "execute_result"
    }
   ],
   "source": [
    "# Average UNC score\n",
    "avg_win_score = UNC_wins['Winning Score'].mean()\n",
    "avg_win_score"
   ]
  },
  {
   "cell_type": "code",
   "execution_count": 10,
   "metadata": {},
   "outputs": [
    {
     "data": {
      "text/plain": [
       "67.86585365853658"
      ]
     },
     "execution_count": 10,
     "metadata": {},
     "output_type": "execute_result"
    }
   ],
   "source": [
    "# Average defeated team score\n",
    "avg_loser_score = UNC_wins['Losing Score'].mean()\n",
    "avg_loser_score"
   ]
  },
  {
   "cell_type": "code",
   "execution_count": 11,
   "metadata": {},
   "outputs": [
    {
     "data": {
      "text/plain": [
       "14.621951219512198"
      ]
     },
     "execution_count": 11,
     "metadata": {},
     "output_type": "execute_result"
    }
   ],
   "source": [
    "# Average margin of victory\n",
    "avg_MOV = ((avg_win_score) - (avg_loser_score))\n",
    "avg_MOV"
   ]
  },
  {
   "cell_type": "code",
   "execution_count": 12,
   "metadata": {},
   "outputs": [
    {
     "data": {
      "text/plain": [
       "East                     41\n",
       "South                    11\n",
       "Southeast                11\n",
       "West                      7\n",
       "Midwest                   5\n",
       "National Championship     3\n",
       "National Semifinals       3\n",
       "Name: Region, dtype: int64"
      ]
     },
     "execution_count": 12,
     "metadata": {},
     "output_type": "execute_result"
    }
   ],
   "source": [
    "# Wins by region\n",
    "wins_by_region = UNC_wins['Region'].value_counts()\n",
    "wins_by_region"
   ]
  },
  {
   "cell_type": "code",
   "execution_count": 13,
   "metadata": {},
   "outputs": [
    {
     "data": {
      "text/plain": [
       "Round of 64              28\n",
       "Round of 32              21\n",
       "Sweet Sixteen            16\n",
       "Elite Eight              10\n",
       "National Semifinals       4\n",
       "National Championship     3\n",
       "Name: Round, dtype: int64"
      ]
     },
     "execution_count": 13,
     "metadata": {},
     "output_type": "execute_result"
    }
   ],
   "source": [
    "# Wins by round\n",
    "wins_by_round = UNC_wins['Round'].value_counts()\n",
    "wins_by_round"
   ]
  },
  {
   "cell_type": "code",
   "execution_count": 15,
   "metadata": {},
   "outputs": [
    {
     "data": {
      "text/plain": [
       "16    12\n",
       "9     10\n",
       "5      8\n",
       "15     6\n",
       "11     5\n",
       "7      5\n",
       "6      5\n",
       "4      5\n",
       "2      5\n",
       "1      5\n",
       "8      4\n",
       "13     3\n",
       "10     3\n",
       "3      3\n",
       "14     2\n",
       "12     1\n",
       "Name: Losing Seed, dtype: int64"
      ]
     },
     "execution_count": 15,
     "metadata": {},
     "output_type": "execute_result"
    }
   ],
   "source": [
    "# Win total by opponent seed\n",
    "wins_by_opp_seed = UNC_wins['Losing Seed'].value_counts()\n",
    "wins_by_opp_seed"
   ]
  },
  {
   "cell_type": "code",
   "execution_count": 16,
   "metadata": {},
   "outputs": [
    {
     "data": {
      "text/plain": [
       "1 OT    3\n",
       "Name: Overtime, dtype: int64"
      ]
     },
     "execution_count": 16,
     "metadata": {},
     "output_type": "execute_result"
    }
   ],
   "source": [
    "# Overtime wins\n",
    "UNC_wins['Overtime'].value_counts()"
   ]
  },
  {
   "cell_type": "code",
   "execution_count": 18,
   "metadata": {},
   "outputs": [
    {
     "data": {
      "text/plain": [
       "Villanova         4\n",
       "Michigan State    4\n",
       "Arkansas          3\n",
       "Michigan          3\n",
       "Notre Dame        3\n",
       "                 ..\n",
       "Miami, Ohio       1\n",
       "Rhode Island      1\n",
       "Tennessee         1\n",
       "Missouri          1\n",
       "East Carolina     1\n",
       "Name: Loser, Length: 65, dtype: int64"
      ]
     },
     "execution_count": 18,
     "metadata": {},
     "output_type": "execute_result"
    }
   ],
   "source": [
    "# Wins by opponent\n",
    "UNC_wins['Loser'].value_counts()"
   ]
  },
  {
   "cell_type": "code",
   "execution_count": null,
   "metadata": {},
   "outputs": [],
   "source": [
    "# Write UNC wins dataframe to CSV file\n",
    "UNC_wins.to_csv(\"UNC_wins.csv\")"
   ]
  }
 ],
 "metadata": {
  "kernelspec": {
   "display_name": "Python 3.7.4 64-bit ('base': conda)",
   "language": "python",
   "name": "python37464bitbaseconda8439c60f603142abb2ce67929778e33b"
  },
  "language_info": {
   "codemirror_mode": {
    "name": "ipython",
    "version": 3
   },
   "file_extension": ".py",
   "mimetype": "text/x-python",
   "name": "python",
   "nbconvert_exporter": "python",
   "pygments_lexer": "ipython3",
   "version": "3.7.4"
  }
 },
 "nbformat": 4,
 "nbformat_minor": 2
}
